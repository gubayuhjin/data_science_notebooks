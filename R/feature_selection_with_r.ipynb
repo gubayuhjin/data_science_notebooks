{
 "cells": [
  {
   "cell_type": "markdown",
   "metadata": {},
   "source": [
    "# Feature Selection with R\n",
    "Jaganadh Gopinadhan\n",
    "http://jaganadhg.in\n",
    "\n",
    "Feture selection is one of the important tasks in Machine Learning and Data Science. This notebook is a continuation of my notes on Feature Selection with sklearn. In this notebook we will discuss various feature selection utiliies available in R and how to use them with examples.\n",
    "\n",
    "### Boruta Algorithm and Package \n",
    "\n",
    "One of the most widely used package for feature selection task in R in Boruta. This package wraps the randomForest package in R. A detailed note on the package and algorithm is available in the paper \"Feature Selection with the Boruta Package\" [1]. I am not ging to discuss the same here, but we will discuss the usage here.\n",
    "\n",
    "We will use the Boston house price data here. Before starting the excercise make sure that the required libraries are installes. To access the data we need the 'MASS' package. Install the package by 'install.packages('MASS')'. The next package wthich we require is 'Boruta', install it by 'install.packages('Boruta', dependencies=c('Depends','Suggests')). \n",
    "\n",
    "First let's load the data and examine the data."
   ]
  },
  {
   "cell_type": "code",
   "execution_count": 26,
   "metadata": {
    "collapsed": false
   },
   "outputs": [
    {
     "data": {
      "text/html": [
       "<table>\n",
       "<thead><tr><th></th><th scope=col>crim</th><th scope=col>zn</th><th scope=col>indus</th><th scope=col>chas</th><th scope=col>nox</th><th scope=col>rm</th><th scope=col>age</th><th scope=col>dis</th><th scope=col>rad</th><th scope=col>tax</th><th scope=col>ptratio</th><th scope=col>black</th><th scope=col>lstat</th><th scope=col>medv</th></tr></thead>\n",
       "<tbody>\n",
       "\t<tr><th scope=row>1</th><td>0.00632</td><td>18</td><td>2.31</td><td>0</td><td>0.538</td><td>6.575</td><td>65.2</td><td>4.09</td><td>1</td><td>296</td><td>15.3</td><td>396.9</td><td>4.98</td><td>24</td></tr>\n",
       "\t<tr><th scope=row>2</th><td>0.02731</td><td>0</td><td>7.07</td><td>0</td><td>0.469</td><td>6.421</td><td>78.9</td><td>4.9671</td><td>2</td><td>242</td><td>17.8</td><td>396.9</td><td>9.14</td><td>21.6</td></tr>\n",
       "\t<tr><th scope=row>3</th><td>0.02729</td><td>0</td><td>7.07</td><td>0</td><td>0.469</td><td>7.185</td><td>61.1</td><td>4.9671</td><td>2</td><td>242</td><td>17.8</td><td>392.83</td><td>4.03</td><td>34.7</td></tr>\n",
       "\t<tr><th scope=row>4</th><td>0.03237</td><td>0</td><td>2.18</td><td>0</td><td>0.458</td><td>6.998</td><td>45.8</td><td>6.0622</td><td>3</td><td>222</td><td>18.7</td><td>394.63</td><td>2.94</td><td>33.4</td></tr>\n",
       "\t<tr><th scope=row>5</th><td>0.06905</td><td>0</td><td>2.18</td><td>0</td><td>0.458</td><td>7.147</td><td>54.2</td><td>6.0622</td><td>3</td><td>222</td><td>18.7</td><td>396.9</td><td>5.33</td><td>36.2</td></tr>\n",
       "\t<tr><th scope=row>6</th><td>0.02985</td><td>0</td><td>2.18</td><td>0</td><td>0.458</td><td>6.43</td><td>58.7</td><td>6.0622</td><td>3</td><td>222</td><td>18.7</td><td>394.12</td><td>5.21</td><td>28.7</td></tr>\n",
       "</tbody>\n",
       "</table>\n"
      ],
      "text/latex": [
       "\\begin{tabular}{r|llllllllllllll}\n",
       "  & crim & zn & indus & chas & nox & rm & age & dis & rad & tax & ptratio & black & lstat & medv\\\\\n",
       "\\hline\n",
       "\t1 & 0.00632 & 18 & 2.31 & 0 & 0.538 & 6.575 & 65.2 & 4.09 & 1 & 296 & 15.3 & 396.9 & 4.98 & 24\\\\\n",
       "\t2 & 0.02731 & 0 & 7.07 & 0 & 0.469 & 6.421 & 78.9 & 4.9671 & 2 & 242 & 17.8 & 396.9 & 9.14 & 21.6\\\\\n",
       "\t3 & 0.02729 & 0 & 7.07 & 0 & 0.469 & 7.185 & 61.1 & 4.9671 & 2 & 242 & 17.8 & 392.83 & 4.03 & 34.7\\\\\n",
       "\t4 & 0.03237 & 0 & 2.18 & 0 & 0.458 & 6.998 & 45.8 & 6.0622 & 3 & 222 & 18.7 & 394.63 & 2.94 & 33.4\\\\\n",
       "\t5 & 0.06905 & 0 & 2.18 & 0 & 0.458 & 7.147 & 54.2 & 6.0622 & 3 & 222 & 18.7 & 396.9 & 5.33 & 36.2\\\\\n",
       "\t6 & 0.02985 & 0 & 2.18 & 0 & 0.458 & 6.43 & 58.7 & 6.0622 & 3 & 222 & 18.7 & 394.12 & 5.21 & 28.7\\\\\n",
       "\\end{tabular}\n"
      ],
      "text/plain": [
       "     crim zn indus chas   nox    rm  age    dis rad tax ptratio  black lstat\n",
       "1 0.00632 18  2.31    0 0.538 6.575 65.2 4.0900   1 296    15.3 396.90  4.98\n",
       "2 0.02731  0  7.07    0 0.469 6.421 78.9 4.9671   2 242    17.8 396.90  9.14\n",
       "3 0.02729  0  7.07    0 0.469 7.185 61.1 4.9671   2 242    17.8 392.83  4.03\n",
       "4 0.03237  0  2.18    0 0.458 6.998 45.8 6.0622   3 222    18.7 394.63  2.94\n",
       "5 0.06905  0  2.18    0 0.458 7.147 54.2 6.0622   3 222    18.7 396.90  5.33\n",
       "6 0.02985  0  2.18    0 0.458 6.430 58.7 6.0622   3 222    18.7 394.12  5.21\n",
       "  medv\n",
       "1 24.0\n",
       "2 21.6\n",
       "3 34.7\n",
       "4 33.4\n",
       "5 36.2\n",
       "6 28.7"
      ]
     },
     "execution_count": 26,
     "metadata": {},
     "output_type": "execute_result"
    }
   ],
   "source": [
    "library(MASS)\n",
    "data(Boston)\n",
    "head(Boston)\n"
   ]
  },
  {
   "cell_type": "markdown",
   "metadata": {},
   "source": [
    "The data contains 13 attributes and 'medv' is the target variable. Now let's try to find the feaure importance."
   ]
  },
  {
   "cell_type": "code",
   "execution_count": 2,
   "metadata": {
    "collapsed": false
   },
   "outputs": [
    {
     "name": "stderr",
     "output_type": "stream",
     "text": [
      " 1. run of importance source...\n",
      " 2. run of importance source...\n",
      " 3. run of importance source...\n",
      " 4. run of importance source...\n",
      " 5. run of importance source...\n",
      " 6. run of importance source...\n",
      " 7. run of importance source...\n",
      " 8. run of importance source...\n",
      " 9. run of importance source...\n",
      " 10. run of importance source...\n",
      " 11. run of importance source...\n",
      "Confirmed 13 attributes: age, black, chas, crim, dis and 8 more.\n"
     ]
    },
    {
     "data": {
      "text/plain": [
       "Boruta performed 11 iterations in 24.11364 secs.\n",
       " 13 attributes confirmed important: age, black, chas, crim, dis and 8\n",
       "more.\n",
       " No attributes deemed unimportant."
      ]
     },
     "execution_count": 2,
     "metadata": {},
     "output_type": "execute_result"
    }
   ],
   "source": [
    "library(MASS)\n",
    "library(Boruta)\n",
    "\n",
    "data(Boston)\n",
    "\n",
    "\n",
    "boruta_feat_imp <- function(data,formula){\n",
    "    #Compute feature importance with Boruta algorithm\n",
    "    #:param data: dataframe containing the data\n",
    "    #:param formula: formula for randomForest \n",
    "    #:returns imp_feats: returns report on feature importance\n",
    "    imp_feats <- Boruta(formula,data=data, doTrace = 2, ntree = 500)\n",
    "    return(imp_feats)\n",
    "} \n",
    "\n",
    "feats <- boruta_feat_imp(Boston,medv ~ .)\n",
    "feats"
   ]
  },
  {
   "cell_type": "markdown",
   "metadata": {},
   "source": [
    "### What Just Happened ?\n",
    "\n",
    "We have loaded the Boston data set first. Then we defined a generic function which will accept a data-set and a forula as argments. The function will pass the data and forumla to Boruta algo, which eventually invokes the randomForest package. Once the comptuig is over it will return the feature importance report. In the Boston case the algorithm foud all the fatures are important :-) . Now it is time for checking the same with some other data.Try the 'HouseVotes84' data from 'mlbench'package.\n",
    "\n",
    "### Feature Selection with randomForest\n",
    "\n",
    "Now let's see how we can use the randomForest package to compute the feature importance.\n",
    "\n"
   ]
  },
  {
   "cell_type": "code",
   "execution_count": 9,
   "metadata": {
    "collapsed": false
   },
   "outputs": [
    {
     "data": {
      "text/html": [
       "<table>\n",
       "<thead><tr><th></th><th scope=col>%IncMSE</th></tr></thead>\n",
       "<tbody>\n",
       "\t<tr><th scope=row>crim</th><td>18.09281</td></tr>\n",
       "\t<tr><th scope=row>zn</th><td>6.570366</td></tr>\n",
       "\t<tr><th scope=row>indus</th><td>13.27625</td></tr>\n",
       "\t<tr><th scope=row>chas</th><td>5.204331</td></tr>\n",
       "\t<tr><th scope=row>nox</th><td>17.64775</td></tr>\n",
       "\t<tr><th scope=row>rm</th><td>32.02581</td></tr>\n",
       "\t<tr><th scope=row>age</th><td>13.74005</td></tr>\n",
       "\t<tr><th scope=row>dis</th><td>17.3245</td></tr>\n",
       "\t<tr><th scope=row>rad</th><td>9.837306</td></tr>\n",
       "\t<tr><th scope=row>tax</th><td>13.75862</td></tr>\n",
       "\t<tr><th scope=row>ptratio</th><td>16.58041</td></tr>\n",
       "\t<tr><th scope=row>black</th><td>12.58019</td></tr>\n",
       "\t<tr><th scope=row>lstat</th><td>24.55349</td></tr>\n",
       "</tbody>\n",
       "</table>\n"
      ],
      "text/latex": [
       "\\begin{tabular}{r|l}\n",
       "  & %IncMSE\\\\\n",
       "\\hline\n",
       "\tcrim & 18.09281\\\\\n",
       "\tzn & 6.570366\\\\\n",
       "\tindus & 13.27625\\\\\n",
       "\tchas & 5.204331\\\\\n",
       "\tnox & 17.64775\\\\\n",
       "\trm & 32.02581\\\\\n",
       "\tage & 13.74005\\\\\n",
       "\tdis & 17.3245\\\\\n",
       "\trad & 9.837306\\\\\n",
       "\ttax & 13.75862\\\\\n",
       "\tptratio & 16.58041\\\\\n",
       "\tblack & 12.58019\\\\\n",
       "\tlstat & 24.55349\\\\\n",
       "\\end{tabular}\n"
      ],
      "text/markdown": [
       "1. 18.092809719907\n",
       "2. 6.57036576413052\n",
       "3. 13.2762494502386\n",
       "4. 5.20433103257313\n",
       "5. 17.6477526954258\n",
       "6. 32.0258120330351\n",
       "7. 13.7400475769737\n",
       "8. 17.3245012953436\n",
       "9. 9.83730600062311\n",
       "10. 13.7586228544805\n",
       "11. 16.5804104416833\n",
       "12. 12.580189879251\n",
       "13. 24.5534890442555\n",
       "\n",
       "\n"
      ],
      "text/plain": [
       "          %IncMSE\n",
       "crim    18.092810\n",
       "zn       6.570366\n",
       "indus   13.276249\n",
       "chas     5.204331\n",
       "nox     17.647753\n",
       "rm      32.025812\n",
       "age     13.740048\n",
       "dis     17.324501\n",
       "rad      9.837306\n",
       "tax     13.758623\n",
       "ptratio 16.580410\n",
       "black   12.580190\n",
       "lstat   24.553489"
      ]
     },
     "execution_count": 9,
     "metadata": {},
     "output_type": "execute_result"
    }
   ],
   "source": [
    "library(MASS)\n",
    "library(randomForest)\n",
    "\n",
    "data(Boston)\n",
    "\n",
    "\n",
    "rf_feat_imp <- function(data,formula){\n",
    "    #Compute feature importance with randomForest algorithm\n",
    "    #:param data: dataframe containing the data\n",
    "    #:param formula: formula for randomForest \n",
    "    #:returns imp_feats: returns report on feature importance\n",
    "    imp_feats <- randomForest(formula,data=data, mtry=2, ntree = 500,importance=TRUE)\n",
    "    imp_feats_res <- importance(imp_feats,type=1)\n",
    "    return(imp_feats_res)\n",
    "} \n",
    "\n",
    "feats <- rf_feat_imp(Boston,medv ~ .)\n",
    "feats"
   ]
  },
  {
   "cell_type": "markdown",
   "metadata": {},
   "source": [
    "### What Just Happened ?\n",
    "Similer to the previous example we have created a generic function to compute the feature importance. The results will be a dataframe with feature name and percentage of MSE (in regression example). If we cahnge type=2 importance function it will give the node impurity value.\n",
    "\n",
    "### It is party time : Feature importance with 'party' package\n",
    "\n",
    "The next package we are exaploring is 'party'"
   ]
  },
  {
   "cell_type": "code",
   "execution_count": null,
   "metadata": {
    "collapsed": false
   },
   "outputs": [
    {
     "name": "stderr",
     "output_type": "stream",
     "text": [
      "Loading required package: grid\n",
      "Loading required package: mvtnorm\n",
      "Loading required package: modeltools\n",
      "Loading required package: stats4\n",
      "Loading required package: strucchange\n",
      "Loading required package: zoo\n",
      "\n",
      "Attaching package: ‘zoo’\n",
      "\n",
      "The following objects are masked from ‘package:base’:\n",
      "\n",
      "    as.Date, as.Date.numeric\n",
      "\n",
      "Loading required package: sandwich\n"
     ]
    }
   ],
   "source": [
    "library(party)\n",
    "library(MASS)\n",
    "\n",
    "data(Boston)\n",
    "\n",
    "\n",
    "party_feat_imp <- function(data,formula){\n",
    "    #Compute feature importance with party package\n",
    "    #:param data: dataframe containing the data\n",
    "    #:param formula: formula for randomForest \n",
    "    #:returns imp_feats: returns report on feature importance\n",
    "    imp_feats <- cforest(formula,data=data, control=cforest_unbiased(mtry=2,ntree=50))\n",
    "    imp_feats_res <- varimp(imp_feats,conditional=TRUE)\n",
    "    return(imp_feats_res)\n",
    "} \n",
    "\n",
    "feats <- party_feat_imp(Boston,medv ~ .)\n",
    "print(feats)"
   ]
  },
  {
   "cell_type": "code",
   "execution_count": null,
   "metadata": {
    "collapsed": true
   },
   "outputs": [],
   "source": []
  },
  {
   "cell_type": "markdown",
   "metadata": {},
   "source": [
    "## References \n",
    "[1] Witold R. Rudnicki and Miron B. Kursa, Feature Selection with the Boruta Package, Journal of Statistical Software, September 2010, Volume 36, Issue 11. http://www.jstatsoft.org/v36/i11/paper \n",
    "\n"
   ]
  }
 ],
 "metadata": {
  "kernelspec": {
   "display_name": "R",
   "language": "",
   "name": "ir"
  },
  "language_info": {
   "codemirror_mode": "r",
   "file_extension": ".r",
   "mimetype": "text/x-r-source",
   "name": "R",
   "pygments_lexer": "r",
   "version": "3.1.2"
  }
 },
 "nbformat": 4,
 "nbformat_minor": 0
}
